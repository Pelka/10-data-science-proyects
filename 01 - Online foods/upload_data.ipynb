{
 "cells": [
  {
   "cell_type": "markdown",
   "metadata": {},
   "source": [
    "### Imports"
   ]
  },
  {
   "cell_type": "code",
   "execution_count": 1,
   "metadata": {},
   "outputs": [],
   "source": [
    "import os\n",
    "import uuid\n",
    "import pandas as pd\n",
    "from datetime import datetime\n",
    "from dotenv import load_dotenv\n",
    "from sqlalchemy import create_engine\n",
    "from sqlalchemy.orm import sessionmaker, scoped_session\n",
    "\n",
    "# Local\n",
    "import models\n",
    "import utils"
   ]
  },
  {
   "cell_type": "markdown",
   "metadata": {},
   "source": [
    "Pandas utility functions"
   ]
  },
  {
   "cell_type": "code",
   "execution_count": 2,
   "metadata": {},
   "outputs": [],
   "source": [
    "def get_relational_values(df: pd.DataFrame, column_name: str):\n",
    "    \"\"\"\n",
    "    Get unique values from a specified column in a DataFrame.\n",
    "\n",
    "    Args:\n",
    "        df (pd.DataFrame): The DataFrame from which to extract values.\n",
    "        column_name (str): The name of the column from which to extract unique values.\n",
    "\n",
    "    Returns:\n",
    "        list: A list containing the unique values from the specified column.\n",
    "    \"\"\"\n",
    "    values = df[column_name].unique()\n",
    "    return values.tolist()"
   ]
  },
  {
   "cell_type": "code",
   "execution_count": 3,
   "metadata": {},
   "outputs": [],
   "source": [
    "def normalize_df(df: pd.DataFrame, normalized_data: list[dict]):\n",
    "    \"\"\"\n",
    "    Normalize a DataFrame by replacing values according to the provided normalization rules.\n",
    "\n",
    "    Args:\n",
    "        df (pd.DataFrame): The DataFrame to be normalized.\n",
    "        normalized_data (list[dict]): A list of dictionaries containing normalization rules.\n",
    "            Each dictionary should have keys as old values to be replaced and corresponding values as new values.\n",
    "\n",
    "    Returns:\n",
    "        pd.DataFrame: The normalized DataFrame with values replaced according to the normalization rules.\n",
    "\n",
    "    \"\"\"\n",
    "    for item in normalized_data:\n",
    "        df = df.replace(item)\n",
    "    return df"
   ]
  },
  {
   "cell_type": "markdown",
   "metadata": {},
   "source": [
    "Database test connection"
   ]
  },
  {
   "cell_type": "code",
   "execution_count": 4,
   "metadata": {},
   "outputs": [
    {
     "name": "stdout",
     "output_type": "stream",
     "text": [
      "Connected! :D\n"
     ]
    }
   ],
   "source": [
    "# Load enviroment variables\n",
    "load_dotenv()\n",
    "\n",
    "DATABASE_URI = os.getenv(\"DATABASE_URI\")\n",
    "\n",
    "# Connection\n",
    "engine = create_engine(\n",
    "    \"postgresql://\" + DATABASE_URI, connect_args={\"sslmode\": \"allow\"}\n",
    ")\n",
    "\n",
    "try:\n",
    "    conn = engine.connect()\n",
    "except Exception as e:\n",
    "    print(\"Conection failed: \", e)\n",
    "else:\n",
    "    print(\"Connected! :D\")"
   ]
  },
  {
   "cell_type": "markdown",
   "metadata": {},
   "source": [
    "Create database session"
   ]
  },
  {
   "cell_type": "code",
   "execution_count": 5,
   "metadata": {},
   "outputs": [],
   "source": [
    "# Create models\n",
    "models.Base.metadata.drop_all(engine)\n",
    "models.Base.metadata.create_all(engine)\n",
    "\n",
    "# Init Session\n",
    "Session = scoped_session(sessionmaker(bind=engine))\n",
    "session = Session()"
   ]
  },
  {
   "cell_type": "markdown",
   "metadata": {},
   "source": [
    "Load dataset"
   ]
  },
  {
   "cell_type": "code",
   "execution_count": 6,
   "metadata": {},
   "outputs": [],
   "source": [
    "df = pd.read_csv(\"clean_data.csv\")"
   ]
  },
  {
   "cell_type": "markdown",
   "metadata": {},
   "source": [
    "Define normalized rules"
   ]
  },
  {
   "cell_type": "code",
   "execution_count": 7,
   "metadata": {},
   "outputs": [],
   "source": [
    "normalized_data = [\n",
    "    {\"Gender\": {\"Male\": 0, \"Female\": 1}},\n",
    "    {\"Output\": {\"No\": 0, \"Yes\": 1}},\n",
    "    {\"Feedback\": {\"Negative \": 0, \"Positive\": 1}},\n",
    "]\n",
    "\n",
    "relational_columns = [\n",
    "    {\"column\": \"Marital Status\", \"model\": models.MatrialStatus},\n",
    "    {\"column\": \"Occupation\", \"model\": models.OccupationStatus},\n",
    "    {\"column\": \"Monthly Income\", \"model\": models.IncomeStatus},\n",
    "    {\"column\": \"Educational Qualifications\", \"model\": models.EducationStatus},\n",
    "]"
   ]
  },
  {
   "cell_type": "markdown",
   "metadata": {},
   "source": [
    "Upload normalized values to db and get the id dict"
   ]
  },
  {
   "cell_type": "code",
   "execution_count": 8,
   "metadata": {},
   "outputs": [],
   "source": [
    "for item in relational_columns:\n",
    "    relational_values = get_relational_values(df, item[\"column\"])\n",
    "    nd_item = utils.upload_normalized_values(item[\"model\"], relational_values, session)\n",
    "    normalized_data.append({item[\"column\"]: nd_item})"
   ]
  },
  {
   "cell_type": "markdown",
   "metadata": {},
   "source": [
    "Normalice dataframe"
   ]
  },
  {
   "cell_type": "code",
   "execution_count": 9,
   "metadata": {},
   "outputs": [
    {
     "name": "stderr",
     "output_type": "stream",
     "text": [
      "/tmp/ipykernel_86576/1814428731.py:15: FutureWarning: Downcasting behavior in `replace` is deprecated and will be removed in a future version. To retain the old behavior, explicitly call `result.infer_objects(copy=False)`. To opt-in to the future behavior, set `pd.set_option('future.no_silent_downcasting', True)`\n",
      "  df = df.replace(item)\n"
     ]
    },
    {
     "data": {
      "text/html": [
       "<div>\n",
       "<style scoped>\n",
       "    .dataframe tbody tr th:only-of-type {\n",
       "        vertical-align: middle;\n",
       "    }\n",
       "\n",
       "    .dataframe tbody tr th {\n",
       "        vertical-align: top;\n",
       "    }\n",
       "\n",
       "    .dataframe thead th {\n",
       "        text-align: right;\n",
       "    }\n",
       "</style>\n",
       "<table border=\"1\" class=\"dataframe\">\n",
       "  <thead>\n",
       "    <tr style=\"text-align: right;\">\n",
       "      <th></th>\n",
       "      <th>Age</th>\n",
       "      <th>Gender</th>\n",
       "      <th>Marital Status</th>\n",
       "      <th>Occupation</th>\n",
       "      <th>Monthly Income</th>\n",
       "      <th>Educational Qualifications</th>\n",
       "      <th>Family size</th>\n",
       "      <th>latitude</th>\n",
       "      <th>longitude</th>\n",
       "      <th>Pin code</th>\n",
       "      <th>Output</th>\n",
       "      <th>Feedback</th>\n",
       "    </tr>\n",
       "  </thead>\n",
       "  <tbody>\n",
       "    <tr>\n",
       "      <th>0</th>\n",
       "      <td>20</td>\n",
       "      <td>1</td>\n",
       "      <td>1</td>\n",
       "      <td>1</td>\n",
       "      <td>1</td>\n",
       "      <td>1</td>\n",
       "      <td>4</td>\n",
       "      <td>12.9766</td>\n",
       "      <td>77.5993</td>\n",
       "      <td>560001</td>\n",
       "      <td>1</td>\n",
       "      <td>1</td>\n",
       "    </tr>\n",
       "    <tr>\n",
       "      <th>1</th>\n",
       "      <td>24</td>\n",
       "      <td>1</td>\n",
       "      <td>1</td>\n",
       "      <td>1</td>\n",
       "      <td>2</td>\n",
       "      <td>2</td>\n",
       "      <td>3</td>\n",
       "      <td>12.9770</td>\n",
       "      <td>77.5773</td>\n",
       "      <td>560009</td>\n",
       "      <td>1</td>\n",
       "      <td>1</td>\n",
       "    </tr>\n",
       "    <tr>\n",
       "      <th>2</th>\n",
       "      <td>22</td>\n",
       "      <td>0</td>\n",
       "      <td>1</td>\n",
       "      <td>1</td>\n",
       "      <td>2</td>\n",
       "      <td>1</td>\n",
       "      <td>3</td>\n",
       "      <td>12.9551</td>\n",
       "      <td>77.6593</td>\n",
       "      <td>560017</td>\n",
       "      <td>1</td>\n",
       "      <td>0</td>\n",
       "    </tr>\n",
       "    <tr>\n",
       "      <th>3</th>\n",
       "      <td>22</td>\n",
       "      <td>1</td>\n",
       "      <td>1</td>\n",
       "      <td>1</td>\n",
       "      <td>1</td>\n",
       "      <td>2</td>\n",
       "      <td>6</td>\n",
       "      <td>12.9473</td>\n",
       "      <td>77.5616</td>\n",
       "      <td>560019</td>\n",
       "      <td>1</td>\n",
       "      <td>1</td>\n",
       "    </tr>\n",
       "    <tr>\n",
       "      <th>4</th>\n",
       "      <td>22</td>\n",
       "      <td>0</td>\n",
       "      <td>1</td>\n",
       "      <td>1</td>\n",
       "      <td>2</td>\n",
       "      <td>1</td>\n",
       "      <td>4</td>\n",
       "      <td>12.9850</td>\n",
       "      <td>77.5533</td>\n",
       "      <td>560010</td>\n",
       "      <td>1</td>\n",
       "      <td>1</td>\n",
       "    </tr>\n",
       "  </tbody>\n",
       "</table>\n",
       "</div>"
      ],
      "text/plain": [
       "   Age  Gender  Marital Status  Occupation  Monthly Income  \\\n",
       "0   20       1               1           1               1   \n",
       "1   24       1               1           1               2   \n",
       "2   22       0               1           1               2   \n",
       "3   22       1               1           1               1   \n",
       "4   22       0               1           1               2   \n",
       "\n",
       "   Educational Qualifications  Family size  latitude  longitude  Pin code  \\\n",
       "0                           1            4   12.9766    77.5993    560001   \n",
       "1                           2            3   12.9770    77.5773    560009   \n",
       "2                           1            3   12.9551    77.6593    560017   \n",
       "3                           2            6   12.9473    77.5616    560019   \n",
       "4                           1            4   12.9850    77.5533    560010   \n",
       "\n",
       "   Output  Feedback  \n",
       "0       1         1  \n",
       "1       1         1  \n",
       "2       1         0  \n",
       "3       1         1  \n",
       "4       1         1  "
      ]
     },
     "execution_count": 9,
     "metadata": {},
     "output_type": "execute_result"
    }
   ],
   "source": [
    "df = normalize_df(df, normalized_data)\n",
    "df.head()"
   ]
  },
  {
   "cell_type": "markdown",
   "metadata": {},
   "source": [
    "Upload dataframe to db"
   ]
  },
  {
   "cell_type": "code",
   "execution_count": 10,
   "metadata": {},
   "outputs": [],
   "source": [
    "for index, row in df.iterrows():\n",
    "    utils.create_register(\n",
    "        db=session,\n",
    "        model=models.User,\n",
    "        id=uuid.uuid1(),\n",
    "        id_matrial_status=row[\"Marital Status\"],\n",
    "        id_occupation_status=row[\"Occupation\"],\n",
    "        id_income_status=row[\"Monthly Income\"],\n",
    "        id_education_status=row[\"Educational Qualifications\"],\n",
    "        age=row[\"Age\"],\n",
    "        family_size=row[\"Family size\"],\n",
    "        latitude=row[\"latitude\"],\n",
    "        longitude=row[\"longitude\"],\n",
    "        gender=row[\"Gender\"],\n",
    "        output=row[\"Output\"],\n",
    "        feedback=row[\"Feedback\"],\n",
    "        zip_code=row[\"Pin code\"],\n",
    "    )"
   ]
  },
  {
   "cell_type": "markdown",
   "metadata": {},
   "source": [
    "Extras"
   ]
  },
  {
   "cell_type": "code",
   "execution_count": 11,
   "metadata": {},
   "outputs": [
    {
     "data": {
      "text/plain": [
       "('ok', <models.Orders at 0x7f6a3407ede0>)"
      ]
     },
     "execution_count": 11,
     "metadata": {},
     "output_type": "execute_result"
    }
   ],
   "source": [
    "# Create order\n",
    "utils.create_register(\n",
    "    db=session,\n",
    "    model=models.Orders,\n",
    "    id=uuid.uuid1(),\n",
    "    id_user=\"4017aea0-fcd5-11ee-8723-74563c469f4b\",\n",
    "    creation_date=datetime.now(),\n",
    "    message = \"Pedido urgente\"\n",
    ")"
   ]
  },
  {
   "cell_type": "code",
   "execution_count": 12,
   "metadata": {},
   "outputs": [
    {
     "data": {
      "text/plain": [
       "('ok', <models.Products at 0x7f6a3407d520>)"
      ]
     },
     "execution_count": 12,
     "metadata": {},
     "output_type": "execute_result"
    }
   ],
   "source": [
    "# Create products\n",
    "utils.create_register(\n",
    "    db=session,\n",
    "    model=models.Products,\n",
    "    id=uuid.uuid1(),\n",
    "    name=\"Pizza Peperoni\",\n",
    "    description=\"Familiar\"\n",
    ")\n",
    "utils.create_register(\n",
    "    db=session,\n",
    "    model=models.Products,\n",
    "    id=uuid.uuid1(),\n",
    "    name=\"Hamburguesa Hawaiana\",\n",
    "    description=\"Tocino extra\"\n",
    ")"
   ]
  },
  {
   "cell_type": "code",
   "execution_count": 14,
   "metadata": {},
   "outputs": [
    {
     "data": {
      "text/plain": [
       "('ok', <models.OrderProducts at 0x7f6a341f6570>)"
      ]
     },
     "execution_count": 14,
     "metadata": {},
     "output_type": "execute_result"
    }
   ],
   "source": [
    "utils.create_register(\n",
    "    db=session,\n",
    "    model=models.OrderProducts,\n",
    "    id=uuid.uuid1(),\n",
    "    id_order=\"8f7fa11e-fcd5-11ee-8723-74563c469f4b\",\n",
    "    id_product=\"91fdea36-fcd5-11ee-8723-74563c469f4b\",\n",
    "    amount=\"1\"\n",
    ")\n",
    "utils.create_register(\n",
    "    db=session,\n",
    "    model=models.OrderProducts,\n",
    "    id=uuid.uuid1(),\n",
    "    id_order=\"8f7fa11e-fcd5-11ee-8723-74563c469f4b\",\n",
    "    id_product=\"92310ad8-fcd5-11ee-8723-74563c469f4b\",\n",
    "    amount=\"2\"\n",
    ")"
   ]
  }
 ],
 "metadata": {
  "kernelspec": {
   "display_name": "pt-ammper",
   "language": "python",
   "name": "python3"
  },
  "language_info": {
   "codemirror_mode": {
    "name": "ipython",
    "version": 3
   },
   "file_extension": ".py",
   "mimetype": "text/x-python",
   "name": "python",
   "nbconvert_exporter": "python",
   "pygments_lexer": "ipython3",
   "version": "3.12.2"
  }
 },
 "nbformat": 4,
 "nbformat_minor": 2
}
