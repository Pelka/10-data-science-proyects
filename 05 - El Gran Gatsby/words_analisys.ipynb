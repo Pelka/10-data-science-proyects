{
 "cells": [
  {
   "cell_type": "code",
   "execution_count": 1,
   "metadata": {},
   "outputs": [],
   "source": [
    "import re\n",
    "import requests\n",
    "from collections import Counter"
   ]
  },
  {
   "cell_type": "code",
   "execution_count": 2,
   "metadata": {},
   "outputs": [],
   "source": [
    "url = \"http://gutenberg.net.au/ebooks01/0100021.txt\"\n",
    "r = requests.get(url)\n",
    "text = r.text"
   ]
  },
  {
   "cell_type": "code",
   "execution_count": 3,
   "metadata": {},
   "outputs": [],
   "source": [
    "def get_past_tense_verbs(text):\n",
    "    # Convertir texto a minúsculas y eliminar signos de puntuación\n",
    "    clean_text = re.sub(r'[^\\w\\s]', '', text.lower())\n",
    "    # Definir patrón de verbos regulares en tiempo pasado\n",
    "    verb_pattern = re.compile(r'\\b\\w+ed\\b')\n",
    "    past_verbs = re.findall(verb_pattern, clean_text)\n",
    "    return past_verbs\n",
    "\n",
    "def count_and_display_top_verbs(verbs, n=10):\n",
    "    verb_counts = Counter(verbs)\n",
    "    print(\"Top {} verbos regulares en inglés tiempo pasado:\".format(n))\n",
    "    for verb, count in verb_counts.most_common(n):\n",
    "        print(f\"{verb}: {count} veces\")"
   ]
  },
  {
   "cell_type": "code",
   "execution_count": 5,
   "metadata": {},
   "outputs": [
    {
     "name": "stdout",
     "output_type": "stream",
     "text": [
      "Top 10 verbos regulares en inglés tiempo pasado:\n",
      "seemed: 173 veces\n",
      "looked: 82 veces\n",
      "turned: 74 veces\n",
      "called: 65 veces\n",
      "happened: 65 veces\n",
      "bed: 54 veces\n",
      "used: 48 veces\n",
      "stopped: 41 veces\n",
      "appeared: 40 veces\n",
      "changed: 36 veces\n"
     ]
    }
   ],
   "source": [
    "past_verbs = get_past_tense_verbs(text)\n",
    "count_and_display_top_verbs(past_verbs)"
   ]
  }
 ],
 "metadata": {
  "kernelspec": {
   "display_name": "pt-ammper",
   "language": "python",
   "name": "python3"
  },
  "language_info": {
   "codemirror_mode": {
    "name": "ipython",
    "version": 3
   },
   "file_extension": ".py",
   "mimetype": "text/x-python",
   "name": "python",
   "nbconvert_exporter": "python",
   "pygments_lexer": "ipython3",
   "version": "3.12.2"
  }
 },
 "nbformat": 4,
 "nbformat_minor": 2
}
